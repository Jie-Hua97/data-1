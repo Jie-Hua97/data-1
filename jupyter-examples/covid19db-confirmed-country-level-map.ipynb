{
 "cells": [
  {
   "cell_type": "markdown",
   "metadata": {},
   "source": [
    "# COVID19db - Example 3\n",
    "\n",
    "\n",
    "This notebook demonstrates how to connect to COVID19db Postgres database and how to generate country level visualisaion."
   ]
  },
  {
   "cell_type": "code",
   "execution_count": 119,
   "metadata": {},
   "outputs": [],
   "source": [
    "import psycopg2\n",
    "import pandas as pd\n",
    "from pandas.plotting import register_matplotlib_converters \n",
    "register_matplotlib_converters()\n",
    "import matplotlib.pyplot as plt\n",
    "\n",
    "# Connect to covid19db.org\n",
    "conn = psycopg2.connect(\n",
    "    host='covid19db.org',\n",
    "    port=5432,\n",
    "    dbname='covid19',\n",
    "    user='covid19',\n",
    "    password='covid19'\n",
    ")\n",
    "\n",
    "cur = conn.cursor()\n",
    "cur.execute(\"\"\"SELECT i.* FROM\n",
    "                (SELECT max(date) AS date, countrycode, adm_area_1\n",
    "                FROM infections WHERE source='POL_WIKI'\n",
    "                GROUP BY countrycode, adm_area_1 ) AS recent_data\n",
    "            INNER JOIN infections AS i\n",
    "            ON i.date=recent_data.date \n",
    "            AND i.countrycode = recent_data.countrycode\n",
    "            AND i.adm_area_1 = recent_data.adm_area_1\n",
    "            AND i.adm_area_1 <> ''\n",
    "            ORDER by i.confirmed DESC\n",
    "            \"\"\")\n",
    "covid19_data = pd.DataFrame(cur.fetchall(), columns=[desc[0] for desc in cur.description])"
   ]
  },
  {
   "cell_type": "code",
   "execution_count": 120,
   "metadata": {},
   "outputs": [
    {
     "data": {
      "text/html": [
       "<div>\n",
       "<style scoped>\n",
       "    .dataframe tbody tr th:only-of-type {\n",
       "        vertical-align: middle;\n",
       "    }\n",
       "\n",
       "    .dataframe tbody tr th {\n",
       "        vertical-align: top;\n",
       "    }\n",
       "\n",
       "    .dataframe thead th {\n",
       "        text-align: right;\n",
       "    }\n",
       "</style>\n",
       "<table border=\"1\" class=\"dataframe\">\n",
       "  <thead>\n",
       "    <tr style=\"text-align: right;\">\n",
       "      <th></th>\n",
       "      <th>date</th>\n",
       "      <th>adm_area_1</th>\n",
       "      <th>confirmed</th>\n",
       "    </tr>\n",
       "  </thead>\n",
       "  <tbody>\n",
       "    <tr>\n",
       "      <th>0</th>\n",
       "      <td>2020-04-03</td>\n",
       "      <td>Masovia (MZ; Warsaw)</td>\n",
       "      <td>808</td>\n",
       "    </tr>\n",
       "    <tr>\n",
       "      <th>1</th>\n",
       "      <td>2020-04-04</td>\n",
       "      <td>Silesia (SL)</td>\n",
       "      <td>481</td>\n",
       "    </tr>\n",
       "    <tr>\n",
       "      <th>2</th>\n",
       "      <td>2020-04-03</td>\n",
       "      <td>Lower Silesia (DS)</td>\n",
       "      <td>400</td>\n",
       "    </tr>\n",
       "    <tr>\n",
       "      <th>3</th>\n",
       "      <td>2020-04-04</td>\n",
       "      <td>Lesser Poland (MA)</td>\n",
       "      <td>276</td>\n",
       "    </tr>\n",
       "    <tr>\n",
       "      <th>4</th>\n",
       "      <td>2020-04-03</td>\n",
       "      <td>Łódź (LD)</td>\n",
       "      <td>248</td>\n",
       "    </tr>\n",
       "  </tbody>\n",
       "</table>\n",
       "</div>"
      ],
      "text/plain": [
       "         date            adm_area_1  confirmed\n",
       "0  2020-04-03  Masovia (MZ; Warsaw)        808\n",
       "1  2020-04-04          Silesia (SL)        481\n",
       "2  2020-04-03    Lower Silesia (DS)        400\n",
       "3  2020-04-04    Lesser Poland (MA)        276\n",
       "4  2020-04-03             Łódź (LD)        248"
      ]
     },
     "execution_count": 120,
     "metadata": {},
     "output_type": "execute_result"
    }
   ],
   "source": [
    "covid19_data[[\"date\", \"adm_area_1\", \"confirmed\"]].head()"
   ]
  },
  {
   "cell_type": "code",
   "execution_count": 121,
   "metadata": {},
   "outputs": [],
   "source": [
    "voivodeship_mapping = {\n",
    "    'Dolnoslaskie': 'Lower Silesia (DS)',\n",
    "    'Kujawsko-Pomorskie': 'Kuyavia-Pomerania (KP)',\n",
    "    'Lódzkie': 'Łódź (LD)',\n",
    "    'Lubelskie': 'Lublin (LU)',\n",
    "    'Lubuskie': 'Lubusz (LB)',\n",
    "    'Malopolskie': 'Lesser Poland (MA)',\n",
    "    'Mazowieckie': 'Masovia (MZ; Warsaw)',\n",
    "    'Opolskie': 'Opole (OP)',\n",
    "    'Podkarpackie': 'Subcarpathian (PK)',\n",
    "    'Podlaskie': 'Podlaskie (PD)',\n",
    "    'Pomorskie': 'Pomerania (PM)',\n",
    "    'Slaskie': 'Silesia (SL)',\n",
    "    'Warminsko-Mazurskie': 'Warmia–Masuria (WN)',\n",
    "    'Wielkopolskie': 'Greater Poland (WP)',\n",
    "    'Zachodniopomorskie': 'West Pomerania (ZP)',\n",
    "    'Swietokrzyskie': 'Holy Cross (SK)'  \n",
    "}"
   ]
  },
  {
   "cell_type": "code",
   "execution_count": 122,
   "metadata": {},
   "outputs": [],
   "source": [
    "import matplotlib.pyplot as plt\n",
    "import geopandas\n",
    "from shapely.geometry import Polygon"
   ]
  },
  {
   "cell_type": "code",
   "execution_count": 124,
   "metadata": {
    "scrolled": true
   },
   "outputs": [
    {
     "data": {
      "text/html": [
       "<div>\n",
       "<style scoped>\n",
       "    .dataframe tbody tr th:only-of-type {\n",
       "        vertical-align: middle;\n",
       "    }\n",
       "\n",
       "    .dataframe tbody tr th {\n",
       "        vertical-align: top;\n",
       "    }\n",
       "\n",
       "    .dataframe thead th {\n",
       "        text-align: right;\n",
       "    }\n",
       "</style>\n",
       "<table border=\"1\" class=\"dataframe\">\n",
       "  <thead>\n",
       "    <tr style=\"text-align: right;\">\n",
       "      <th></th>\n",
       "      <th>ID_0</th>\n",
       "      <th>ISO</th>\n",
       "      <th>NAME_0</th>\n",
       "      <th>ID_1</th>\n",
       "      <th>NAME_1</th>\n",
       "      <th>TYPE_1</th>\n",
       "      <th>ENGTYPE_1</th>\n",
       "      <th>NL_NAME_1</th>\n",
       "      <th>VARNAME_1</th>\n",
       "      <th>geometry</th>\n",
       "      <th>ENGNAME_1</th>\n",
       "    </tr>\n",
       "  </thead>\n",
       "  <tbody>\n",
       "    <tr>\n",
       "      <th>0</th>\n",
       "      <td>181</td>\n",
       "      <td>POL</td>\n",
       "      <td>Poland</td>\n",
       "      <td>1</td>\n",
       "      <td>Łódź</td>\n",
       "      <td>Województwo</td>\n",
       "      <td>Voivodeship|Province</td>\n",
       "      <td>None</td>\n",
       "      <td>Lódzkie</td>\n",
       "      <td>POLYGON ((19.34231 52.30919, 19.36254 52.29567...</td>\n",
       "      <td>Łódź (LD)</td>\n",
       "    </tr>\n",
       "    <tr>\n",
       "      <th>1</th>\n",
       "      <td>181</td>\n",
       "      <td>POL</td>\n",
       "      <td>Poland</td>\n",
       "      <td>2</td>\n",
       "      <td>Świętokrzyskie</td>\n",
       "      <td>Województwo</td>\n",
       "      <td>Voivodeship|Province</td>\n",
       "      <td>None</td>\n",
       "      <td>Swietokrzyskie</td>\n",
       "      <td>POLYGON ((20.70706 51.14639, 20.71060 51.14365...</td>\n",
       "      <td>Holy Cross (SK)</td>\n",
       "    </tr>\n",
       "    <tr>\n",
       "      <th>2</th>\n",
       "      <td>181</td>\n",
       "      <td>POL</td>\n",
       "      <td>Poland</td>\n",
       "      <td>3</td>\n",
       "      <td>Greater Poland</td>\n",
       "      <td>Województwo</td>\n",
       "      <td>Voivodeship|Province</td>\n",
       "      <td>None</td>\n",
       "      <td>Wielkopolskie</td>\n",
       "      <td>POLYGON ((16.92182 53.59652, 16.94773 53.58820...</td>\n",
       "      <td>Greater Poland (WP)</td>\n",
       "    </tr>\n",
       "    <tr>\n",
       "      <th>3</th>\n",
       "      <td>181</td>\n",
       "      <td>POL</td>\n",
       "      <td>Poland</td>\n",
       "      <td>4</td>\n",
       "      <td>Kuyavian-Pomeranian</td>\n",
       "      <td>Województwo</td>\n",
       "      <td>Voivodeship|Province</td>\n",
       "      <td>None</td>\n",
       "      <td>Kujawsko-Pomorskie</td>\n",
       "      <td>POLYGON ((18.25566 53.69423, 18.27436 53.67850...</td>\n",
       "      <td>Kuyavia-Pomerania (KP)</td>\n",
       "    </tr>\n",
       "    <tr>\n",
       "      <th>4</th>\n",
       "      <td>181</td>\n",
       "      <td>POL</td>\n",
       "      <td>Poland</td>\n",
       "      <td>5</td>\n",
       "      <td>Lesser Poland</td>\n",
       "      <td>Województwo</td>\n",
       "      <td>Voivodeship|Province</td>\n",
       "      <td>None</td>\n",
       "      <td>Malopolskie</td>\n",
       "      <td>POLYGON ((20.15906 50.43463, 20.17673 50.43217...</td>\n",
       "      <td>Lesser Poland (MA)</td>\n",
       "    </tr>\n",
       "  </tbody>\n",
       "</table>\n",
       "</div>"
      ],
      "text/plain": [
       "   ID_0  ISO  NAME_0  ID_1               NAME_1       TYPE_1  \\\n",
       "0   181  POL  Poland     1                 Łódź  Województwo   \n",
       "1   181  POL  Poland     2       Świętokrzyskie  Województwo   \n",
       "2   181  POL  Poland     3       Greater Poland  Województwo   \n",
       "3   181  POL  Poland     4  Kuyavian-Pomeranian  Województwo   \n",
       "4   181  POL  Poland     5        Lesser Poland  Województwo   \n",
       "\n",
       "              ENGTYPE_1 NL_NAME_1           VARNAME_1  \\\n",
       "0  Voivodeship|Province      None             Lódzkie   \n",
       "1  Voivodeship|Province      None      Swietokrzyskie   \n",
       "2  Voivodeship|Province      None       Wielkopolskie   \n",
       "3  Voivodeship|Province      None  Kujawsko-Pomorskie   \n",
       "4  Voivodeship|Province      None         Malopolskie   \n",
       "\n",
       "                                            geometry               ENGNAME_1  \n",
       "0  POLYGON ((19.34231 52.30919, 19.36254 52.29567...               Łódź (LD)  \n",
       "1  POLYGON ((20.70706 51.14639, 20.71060 51.14365...         Holy Cross (SK)  \n",
       "2  POLYGON ((16.92182 53.59652, 16.94773 53.58820...     Greater Poland (WP)  \n",
       "3  POLYGON ((18.25566 53.69423, 18.27436 53.67850...  Kuyavia-Pomerania (KP)  \n",
       "4  POLYGON ((20.15906 50.43463, 20.17673 50.43217...      Lesser Poland (MA)  "
      ]
     },
     "execution_count": 124,
     "metadata": {},
     "output_type": "execute_result"
    }
   ],
   "source": [
    "poland = geopandas.read_file(\"http://biogeo.ucdavis.edu/data/diva/adm/POL_adm.zip\", layer='POL_adm1')\n",
    "poland[\"ENGNAME_1\"] = poland[\"VARNAME_1\"].map(voivodeship_mapping)\n",
    "poland.head()"
   ]
  },
  {
   "cell_type": "code",
   "execution_count": 125,
   "metadata": {},
   "outputs": [],
   "source": [
    "poland = poland.merge(\n",
    "    covid19_data[['adm_area_1','tested','confirmed']], \n",
    "    how = 'left', left_on = 'ENGNAME_1', right_on = 'adm_area_1'\n",
    ")"
   ]
  },
  {
   "cell_type": "code",
   "execution_count": 126,
   "metadata": {},
   "outputs": [
    {
     "data": {
      "text/plain": [
       "<matplotlib.axes._subplots.AxesSubplot at 0x1228eff10>"
      ]
     },
     "execution_count": 126,
     "metadata": {},
     "output_type": "execute_result"
    },
    {
     "data": {
      "image/png": "[encoded data removed]",
      "text/plain": [
       "<Figure size 576x432 with 2 Axes>"
      ]
     },
     "metadata": {
      "needs_background": "light"
     },
     "output_type": "display_data"
    }
   ],
   "source": [
    "import geoplot as gplt\n",
    "gplt.choropleth(\n",
    "    poland,     \n",
    "    hue='confirmed',     \n",
    "    edgecolor='white', \n",
    "    linewidth=1,\n",
    "    cmap='Reds', \n",
    "    legend=True, \n",
    "    legend_kwargs={'orientation': 'horizontal'}\n",
    ")"
   ]
  },
  {
   "cell_type": "code",
   "execution_count": null,
   "metadata": {},
   "outputs": [],
   "source": []
  }
 ],
 "metadata": {
  "kernelspec": {
   "display_name": "Python 3",
   "language": "python",
   "name": "python3"
  },
  "language_info": {
   "codemirror_mode": {
    "name": "ipython",
    "version": 3
   },
   "file_extension": ".py",
   "mimetype": "text/x-python",
   "name": "python",
   "nbconvert_exporter": "python",
   "pygments_lexer": "ipython3",
   "version": "3.7.5"
  }
 },
 "nbformat": 4,
 "nbformat_minor": 4
}
